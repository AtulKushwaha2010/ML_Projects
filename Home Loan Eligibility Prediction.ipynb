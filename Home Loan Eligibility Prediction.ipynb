{
 "cells": [
  {
   "cell_type": "markdown",
   "id": "7eed5fe8",
   "metadata": {},
   "source": [
    "**Problem Statement:** Objective of the work is to automate the loan eligibility process (real time) based on customer detail provided while filling online application form. These details are Gender, Marital Status, Education, Number of Dependents, Income, Loan Amount, Credit History and others."
   ]
  },
  {
   "cell_type": "code",
   "execution_count": 1,
   "id": "b91b54d0",
   "metadata": {},
   "outputs": [
    {
     "data": {
      "text/plain": [
       "'D:\\\\Learnbay Datascience\\\\Self Projects\\\\Banking Domain\\\\Home Loan Approval Data'"
      ]
     },
     "execution_count": 1,
     "metadata": {},
     "output_type": "execute_result"
    }
   ],
   "source": [
    "import os\n",
    "os.getcwd()"
   ]
  },
  {
   "cell_type": "code",
   "execution_count": 2,
   "id": "aab96cea",
   "metadata": {},
   "outputs": [],
   "source": [
    "import numpy as np\n",
    "import pandas as pd\n",
    "import matplotlib.pyplot as plt\n",
    "%matplotlib inline\n",
    "import seaborn as sns\n",
    "\n",
    "import warnings\n",
    "warnings.filterwarnings(\"ignore\")"
   ]
  },
  {
   "cell_type": "code",
   "execution_count": 3,
   "id": "48bf4b55",
   "metadata": {},
   "outputs": [],
   "source": [
    "# loading train and test data\n",
    "train_df = pd.read_csv(\"loan_train.csv\")\n",
    "test_df = pd.read_csv(\"loan_test.csv\")"
   ]
  },
  {
   "cell_type": "code",
   "execution_count": 4,
   "id": "3b7ea77b",
   "metadata": {},
   "outputs": [
    {
     "name": "stdout",
     "output_type": "stream",
     "text": [
      "    Loan_ID Gender Married Dependents     Education Self_Employed  \\\n",
      "0  LP001002   Male      No          0      Graduate            No   \n",
      "1  LP001003   Male     Yes          1      Graduate            No   \n",
      "2  LP001005   Male     Yes          0      Graduate           Yes   \n",
      "3  LP001006   Male     Yes          0  Not Graduate            No   \n",
      "4  LP001008   Male      No          0      Graduate            No   \n",
      "\n",
      "   ApplicantIncome  CoapplicantIncome  LoanAmount  Loan_Amount_Term  \\\n",
      "0             5849                0.0         NaN             360.0   \n",
      "1             4583             1508.0       128.0             360.0   \n",
      "2             3000                0.0        66.0             360.0   \n",
      "3             2583             2358.0       120.0             360.0   \n",
      "4             6000                0.0       141.0             360.0   \n",
      "\n",
      "   Credit_History Property_Area Loan_Status  \n",
      "0             1.0         Urban           Y  \n",
      "1             1.0         Rural           N  \n",
      "2             1.0         Urban           Y  \n",
      "3             1.0         Urban           Y  \n",
      "4             1.0         Urban           Y  \n",
      "************************************************************************************************************************************************************************************************************************************************************\n",
      "    Loan_ID Gender Married Dependents     Education Self_Employed  \\\n",
      "0  LP001015   Male     Yes          0      Graduate            No   \n",
      "1  LP001022   Male     Yes          1      Graduate            No   \n",
      "2  LP001031   Male     Yes          2      Graduate            No   \n",
      "3  LP001035   Male     Yes          2      Graduate            No   \n",
      "4  LP001051   Male      No          0  Not Graduate            No   \n",
      "\n",
      "   ApplicantIncome  CoapplicantIncome  LoanAmount  Loan_Amount_Term  \\\n",
      "0             5720                  0       110.0             360.0   \n",
      "1             3076               1500       126.0             360.0   \n",
      "2             5000               1800       208.0             360.0   \n",
      "3             2340               2546       100.0             360.0   \n",
      "4             3276                  0        78.0             360.0   \n",
      "\n",
      "   Credit_History Property_Area  \n",
      "0             1.0         Urban  \n",
      "1             1.0         Urban  \n",
      "2             1.0         Urban  \n",
      "3             NaN         Urban  \n",
      "4             1.0         Urban  \n"
     ]
    }
   ],
   "source": [
    "print(train_df.head())\n",
    "print(\"************************************\"*7)\n",
    "print(test_df.head())"
   ]
  },
  {
   "cell_type": "code",
   "execution_count": 5,
   "id": "8d263a16",
   "metadata": {},
   "outputs": [
    {
     "name": "stdout",
     "output_type": "stream",
     "text": [
      "(614, 13)\n",
      "(367, 12)\n"
     ]
    }
   ],
   "source": [
    "print(train_df.shape)\n",
    "print(test_df.shape)"
   ]
  },
  {
   "cell_type": "code",
   "execution_count": 6,
   "id": "3c4913cd",
   "metadata": {},
   "outputs": [
    {
     "name": "stdout",
     "output_type": "stream",
     "text": [
      "       ApplicantIncome  CoapplicantIncome  LoanAmount  Loan_Amount_Term  \\\n",
      "count       614.000000         614.000000  592.000000         600.00000   \n",
      "mean       5403.459283        1621.245798  146.412162         342.00000   \n",
      "std        6109.041673        2926.248369   85.587325          65.12041   \n",
      "min         150.000000           0.000000    9.000000          12.00000   \n",
      "25%        2877.500000           0.000000  100.000000         360.00000   \n",
      "50%        3812.500000        1188.500000  128.000000         360.00000   \n",
      "75%        5795.000000        2297.250000  168.000000         360.00000   \n",
      "max       81000.000000       41667.000000  700.000000         480.00000   \n",
      "\n",
      "       Credit_History  \n",
      "count      564.000000  \n",
      "mean         0.842199  \n",
      "std          0.364878  \n",
      "min          0.000000  \n",
      "25%          1.000000  \n",
      "50%          1.000000  \n",
      "75%          1.000000  \n",
      "max          1.000000  \n",
      "************************************************************************************************************************************************************************************************************************************************************\n",
      "       ApplicantIncome  CoapplicantIncome  LoanAmount  Loan_Amount_Term  \\\n",
      "count       367.000000         367.000000  362.000000        361.000000   \n",
      "mean       4805.599455        1569.577657  136.132597        342.537396   \n",
      "std        4910.685399        2334.232099   61.366652         65.156643   \n",
      "min           0.000000           0.000000   28.000000          6.000000   \n",
      "25%        2864.000000           0.000000  100.250000        360.000000   \n",
      "50%        3786.000000        1025.000000  125.000000        360.000000   \n",
      "75%        5060.000000        2430.500000  158.000000        360.000000   \n",
      "max       72529.000000       24000.000000  550.000000        480.000000   \n",
      "\n",
      "       Credit_History  \n",
      "count      338.000000  \n",
      "mean         0.825444  \n",
      "std          0.380150  \n",
      "min          0.000000  \n",
      "25%          1.000000  \n",
      "50%          1.000000  \n",
      "75%          1.000000  \n",
      "max          1.000000  \n"
     ]
    }
   ],
   "source": [
    "print(train_df.describe())\n",
    "print(\"************************************\"*7)\n",
    "print(test_df.describe())"
   ]
  },
  {
   "cell_type": "code",
   "execution_count": 7,
   "id": "dac5e578",
   "metadata": {},
   "outputs": [
    {
     "name": "stdout",
     "output_type": "stream",
     "text": [
      "<class 'pandas.core.frame.DataFrame'>\n",
      "RangeIndex: 614 entries, 0 to 613\n",
      "Data columns (total 13 columns):\n",
      " #   Column             Non-Null Count  Dtype  \n",
      "---  ------             --------------  -----  \n",
      " 0   Loan_ID            614 non-null    object \n",
      " 1   Gender             601 non-null    object \n",
      " 2   Married            611 non-null    object \n",
      " 3   Dependents         599 non-null    object \n",
      " 4   Education          614 non-null    object \n",
      " 5   Self_Employed      582 non-null    object \n",
      " 6   ApplicantIncome    614 non-null    int64  \n",
      " 7   CoapplicantIncome  614 non-null    float64\n",
      " 8   LoanAmount         592 non-null    float64\n",
      " 9   Loan_Amount_Term   600 non-null    float64\n",
      " 10  Credit_History     564 non-null    float64\n",
      " 11  Property_Area      614 non-null    object \n",
      " 12  Loan_Status        614 non-null    object \n",
      "dtypes: float64(4), int64(1), object(8)\n",
      "memory usage: 62.5+ KB\n",
      "None\n",
      "************************************************************************************************************************************************************************************************************************************************************\n",
      "<class 'pandas.core.frame.DataFrame'>\n",
      "RangeIndex: 367 entries, 0 to 366\n",
      "Data columns (total 12 columns):\n",
      " #   Column             Non-Null Count  Dtype  \n",
      "---  ------             --------------  -----  \n",
      " 0   Loan_ID            367 non-null    object \n",
      " 1   Gender             356 non-null    object \n",
      " 2   Married            367 non-null    object \n",
      " 3   Dependents         357 non-null    object \n",
      " 4   Education          367 non-null    object \n",
      " 5   Self_Employed      344 non-null    object \n",
      " 6   ApplicantIncome    367 non-null    int64  \n",
      " 7   CoapplicantIncome  367 non-null    int64  \n",
      " 8   LoanAmount         362 non-null    float64\n",
      " 9   Loan_Amount_Term   361 non-null    float64\n",
      " 10  Credit_History     338 non-null    float64\n",
      " 11  Property_Area      367 non-null    object \n",
      "dtypes: float64(3), int64(2), object(7)\n",
      "memory usage: 34.5+ KB\n",
      "None\n"
     ]
    }
   ],
   "source": [
    "print(train_df.info())\n",
    "print(\"************************************\"*7)\n",
    "print(test_df.info())"
   ]
  },
  {
   "cell_type": "code",
   "execution_count": 8,
   "id": "0d5102fe",
   "metadata": {},
   "outputs": [
    {
     "name": "stdout",
     "output_type": "stream",
     "text": [
      "Loan_ID               0\n",
      "Gender               13\n",
      "Married               3\n",
      "Dependents           15\n",
      "Education             0\n",
      "Self_Employed        32\n",
      "ApplicantIncome       0\n",
      "CoapplicantIncome     0\n",
      "LoanAmount           22\n",
      "Loan_Amount_Term     14\n",
      "Credit_History       50\n",
      "Property_Area         0\n",
      "Loan_Status           0\n",
      "dtype: int64\n",
      "************************************************************************************************************************************************************************************************************************************************************\n",
      "Loan_ID               0\n",
      "Gender               11\n",
      "Married               0\n",
      "Dependents           10\n",
      "Education             0\n",
      "Self_Employed        23\n",
      "ApplicantIncome       0\n",
      "CoapplicantIncome     0\n",
      "LoanAmount            5\n",
      "Loan_Amount_Term      6\n",
      "Credit_History       29\n",
      "Property_Area         0\n",
      "dtype: int64\n"
     ]
    }
   ],
   "source": [
    "print(train_df.isnull().sum())\n",
    "print(\"************************************\"*7)\n",
    "print(test_df.isnull().sum())"
   ]
  },
  {
   "cell_type": "code",
   "execution_count": 9,
   "id": "5ac5a8f1",
   "metadata": {},
   "outputs": [
    {
     "name": "stdout",
     "output_type": "stream",
     "text": [
      "Loan_ID              614\n",
      "Gender                 2\n",
      "Married                2\n",
      "Dependents             4\n",
      "Education              2\n",
      "Self_Employed          2\n",
      "ApplicantIncome      505\n",
      "CoapplicantIncome    287\n",
      "LoanAmount           203\n",
      "Loan_Amount_Term      10\n",
      "Credit_History         2\n",
      "Property_Area          3\n",
      "Loan_Status            2\n",
      "dtype: int64\n",
      "************************************************************************************************************************************************************************************************************************************************************\n",
      "Loan_ID              367\n",
      "Gender                 2\n",
      "Married                2\n",
      "Dependents             4\n",
      "Education              2\n",
      "Self_Employed          2\n",
      "ApplicantIncome      314\n",
      "CoapplicantIncome    194\n",
      "LoanAmount           144\n",
      "Loan_Amount_Term      12\n",
      "Credit_History         2\n",
      "Property_Area          3\n",
      "dtype: int64\n"
     ]
    }
   ],
   "source": [
    "print(train_df.nunique())\n",
    "print(\"************************************\"*7)\n",
    "print(test_df.nunique())"
   ]
  },
  {
   "cell_type": "code",
   "execution_count": 10,
   "id": "30165395",
   "metadata": {},
   "outputs": [
    {
     "name": "stdout",
     "output_type": "stream",
     "text": [
      "{nan, 'Male', 'Female'}\n",
      "{nan, 'Yes', 'No'}\n",
      "{nan, '0', '1', '3+', '2'}\n",
      "{'Graduate', 'Not Graduate'}\n",
      "{nan, 'Yes', 'No'}\n",
      "{'Semiurban', 'Urban', 'Rural'}\n",
      "{'Y', 'N'}\n"
     ]
    }
   ],
   "source": [
    "print(set(train_df['Gender'].values.tolist()))\n",
    "print(set(train_df['Married'].values.tolist()))\n",
    "print(set(train_df['Dependents'].values.tolist()))\n",
    "print(set(train_df['Education'].values.tolist()))\n",
    "print(set(train_df['Self_Employed'].values.tolist()))\n",
    "print(set(train_df['Property_Area'].values.tolist()))\n",
    "print(set(train_df['Loan_Status'].values.tolist()))"
   ]
  },
  {
   "cell_type": "code",
   "execution_count": 11,
   "id": "e048d480",
   "metadata": {},
   "outputs": [
    {
     "name": "stdout",
     "output_type": "stream",
     "text": [
      "{nan, 'Male', 'Female'}\n",
      "{'Yes', 'No'}\n",
      "{nan, '0', '1', '3+', '2'}\n",
      "{'Graduate', 'Not Graduate'}\n",
      "{nan, 'Yes', 'No'}\n",
      "{'Semiurban', 'Urban', 'Rural'}\n"
     ]
    }
   ],
   "source": [
    "print(set(test_df['Gender'].values.tolist()))\n",
    "print(set(test_df['Married'].values.tolist()))\n",
    "print(set(test_df['Dependents'].values.tolist()))\n",
    "print(set(test_df['Education'].values.tolist()))\n",
    "print(set(test_df['Self_Employed'].values.tolist()))\n",
    "print(set(test_df['Property_Area'].values.tolist()))"
   ]
  },
  {
   "cell_type": "code",
   "execution_count": 12,
   "id": "788c4e93",
   "metadata": {},
   "outputs": [],
   "source": [
    "cat_cols=['Gender','Married','Dependents','Self_Employed','Credit_History']\n",
    "for col in cat_cols:\n",
    "    train_df[col].fillna(train_df[col].mode()[0],inplace=True)\n",
    "    test_df[col].fillna(test_df[col].mode()[0],inplace=True)"
   ]
  },
  {
   "cell_type": "code",
   "execution_count": 13,
   "id": "abde275d",
   "metadata": {},
   "outputs": [
    {
     "name": "stdout",
     "output_type": "stream",
     "text": [
      "Loan_ID               0\n",
      "Gender                0\n",
      "Married               0\n",
      "Dependents            0\n",
      "Education             0\n",
      "Self_Employed         0\n",
      "ApplicantIncome       0\n",
      "CoapplicantIncome     0\n",
      "LoanAmount           22\n",
      "Loan_Amount_Term     14\n",
      "Credit_History        0\n",
      "Property_Area         0\n",
      "Loan_Status           0\n",
      "dtype: int64\n",
      "************************************************************************************************************************************************************************************************************************************************************\n",
      "Loan_ID              0\n",
      "Gender               0\n",
      "Married              0\n",
      "Dependents           0\n",
      "Education            0\n",
      "Self_Employed        0\n",
      "ApplicantIncome      0\n",
      "CoapplicantIncome    0\n",
      "LoanAmount           5\n",
      "Loan_Amount_Term     6\n",
      "Credit_History       0\n",
      "Property_Area        0\n",
      "dtype: int64\n"
     ]
    }
   ],
   "source": [
    "print(train_df.isnull().sum())\n",
    "print(\"************************************\"*7)\n",
    "print(test_df.isnull().sum())"
   ]
  },
  {
   "cell_type": "code",
   "execution_count": 14,
   "id": "9d4a756b",
   "metadata": {},
   "outputs": [
    {
     "data": {
      "text/plain": [
       "<AxesSubplot: >"
      ]
     },
     "execution_count": 14,
     "metadata": {},
     "output_type": "execute_result"
    },
    {
     "data": {
      "image/png": "[encoded data removed]",
      "text/plain": [
       "<Figure size 1400x800 with 1 Axes>"
      ]
     },
     "metadata": {},
     "output_type": "display_data"
    }
   ],
   "source": [
    "plt.figure(figsize=(14,8))\n",
    "sns.boxplot(train_df)"
   ]
  },
  {
   "cell_type": "code",
   "execution_count": 15,
   "id": "1db96bd8",
   "metadata": {},
   "outputs": [
    {
     "data": {
      "text/plain": [
       "<AxesSubplot: >"
      ]
     },
     "execution_count": 15,
     "metadata": {},
     "output_type": "execute_result"
    },
    {
     "data": {
      "image/png": "[encoded data removed]",
      "text/plain": [
       "<Figure size 640x480 with 1 Axes>"
      ]
     },
     "metadata": {},
     "output_type": "display_data"
    }
   ],
   "source": [
    "sns.boxplot(train_df['LoanAmount'])"
   ]
  },
  {
   "cell_type": "code",
   "execution_count": 16,
   "id": "ae637fbe",
   "metadata": {},
   "outputs": [
    {
     "data": {
      "text/plain": [
       "<AxesSubplot: >"
      ]
     },
     "execution_count": 16,
     "metadata": {},
     "output_type": "execute_result"
    },
    {
     "data": {
      "image/png": "[encoded data removed]",
      "text/plain": [
       "<Figure size 640x480 with 1 Axes>"
      ]
     },
     "metadata": {},
     "output_type": "display_data"
    }
   ],
   "source": [
    "sns.boxplot(train_df['Loan_Amount_Term'])"
   ]
  },
  {
   "cell_type": "code",
   "execution_count": 17,
   "id": "edbd9031",
   "metadata": {},
   "outputs": [
    {
     "data": {
      "text/plain": [
       "360.0    512\n",
       "180.0     44\n",
       "480.0     15\n",
       "300.0     13\n",
       "240.0      4\n",
       "84.0       4\n",
       "120.0      3\n",
       "60.0       2\n",
       "36.0       2\n",
       "12.0       1\n",
       "Name: Loan_Amount_Term, dtype: int64"
      ]
     },
     "execution_count": 17,
     "metadata": {},
     "output_type": "execute_result"
    }
   ],
   "source": [
    "train_df['Loan_Amount_Term'].value_counts()"
   ]
  },
  {
   "cell_type": "code",
   "execution_count": 18,
   "id": "d80af418",
   "metadata": {},
   "outputs": [
    {
     "data": {
      "text/plain": [
       "342.0"
      ]
     },
     "execution_count": 18,
     "metadata": {},
     "output_type": "execute_result"
    }
   ],
   "source": [
    "train_df['Loan_Amount_Term'].mean()"
   ]
  },
  {
   "cell_type": "code",
   "execution_count": 19,
   "id": "75684d4f",
   "metadata": {},
   "outputs": [
    {
     "data": {
      "text/plain": [
       "360.0"
      ]
     },
     "execution_count": 19,
     "metadata": {},
     "output_type": "execute_result"
    }
   ],
   "source": [
    "train_df['Loan_Amount_Term'].median()"
   ]
  },
  {
   "cell_type": "code",
   "execution_count": 20,
   "id": "ddfe3451",
   "metadata": {},
   "outputs": [
    {
     "data": {
      "text/plain": [
       "146.41216216216216"
      ]
     },
     "execution_count": 20,
     "metadata": {},
     "output_type": "execute_result"
    }
   ],
   "source": [
    "train_df['LoanAmount'].mean()"
   ]
  },
  {
   "cell_type": "code",
   "execution_count": 21,
   "id": "e0cd226b",
   "metadata": {},
   "outputs": [
    {
     "data": {
      "text/plain": [
       "128.0"
      ]
     },
     "execution_count": 21,
     "metadata": {},
     "output_type": "execute_result"
    }
   ],
   "source": [
    "train_df['LoanAmount'].median()"
   ]
  },
  {
   "cell_type": "code",
   "execution_count": 22,
   "id": "ed9dc9b2",
   "metadata": {},
   "outputs": [
    {
     "data": {
      "text/plain": [
       "<AxesSubplot: >"
      ]
     },
     "execution_count": 22,
     "metadata": {},
     "output_type": "execute_result"
    },
    {
     "data": {
      "image/png": "[encoded data removed]",
      "text/plain": [
       "<Figure size 1400x800 with 1 Axes>"
      ]
     },
     "metadata": {},
     "output_type": "display_data"
    }
   ],
   "source": [
    "plt.figure(figsize=(14,8))\n",
    "sns.boxplot(test_df)"
   ]
  },
  {
   "cell_type": "code",
   "execution_count": 23,
   "id": "fe1424f9",
   "metadata": {},
   "outputs": [],
   "source": [
    "train_df['LoanAmount'] = train_df['LoanAmount'].fillna(train_df['LoanAmount'].median())\n",
    "train_df['Loan_Amount_Term'] = train_df['Loan_Amount_Term'].fillna(train_df['Loan_Amount_Term'].median())"
   ]
  },
  {
   "cell_type": "code",
   "execution_count": 24,
   "id": "65a590c0",
   "metadata": {},
   "outputs": [],
   "source": [
    "test_df['LoanAmount'] = test_df['LoanAmount'].fillna(test_df['LoanAmount'].median())\n",
    "test_df['Loan_Amount_Term'] = test_df['Loan_Amount_Term'].fillna(test_df['Loan_Amount_Term'].median())"
   ]
  },
  {
   "cell_type": "code",
   "execution_count": 25,
   "id": "8030e9ef",
   "metadata": {},
   "outputs": [
    {
     "name": "stdout",
     "output_type": "stream",
     "text": [
      "Loan_ID              0\n",
      "Gender               0\n",
      "Married              0\n",
      "Dependents           0\n",
      "Education            0\n",
      "Self_Employed        0\n",
      "ApplicantIncome      0\n",
      "CoapplicantIncome    0\n",
      "LoanAmount           0\n",
      "Loan_Amount_Term     0\n",
      "Credit_History       0\n",
      "Property_Area        0\n",
      "Loan_Status          0\n",
      "dtype: int64\n",
      "************************************************************************************************************************************************************************************************************************************************************\n",
      "Loan_ID              0\n",
      "Gender               0\n",
      "Married              0\n",
      "Dependents           0\n",
      "Education            0\n",
      "Self_Employed        0\n",
      "ApplicantIncome      0\n",
      "CoapplicantIncome    0\n",
      "LoanAmount           0\n",
      "Loan_Amount_Term     0\n",
      "Credit_History       0\n",
      "Property_Area        0\n",
      "dtype: int64\n"
     ]
    }
   ],
   "source": [
    "print(train_df.isnull().sum())\n",
    "print(\"************************************\"*7)\n",
    "print(test_df.isnull().sum())"
   ]
  },
  {
   "cell_type": "code",
   "execution_count": 26,
   "id": "11d8d143",
   "metadata": {},
   "outputs": [],
   "source": [
    "target_map={\"Y\":1, \"N\": 0}\n",
    "dataset=[train_df]\n",
    "for data in dataset:\n",
    "    data['Loan_Status']=data['Loan_Status'].map(target_map)"
   ]
  },
  {
   "cell_type": "code",
   "execution_count": 27,
   "id": "b3b020ae",
   "metadata": {},
   "outputs": [],
   "source": [
    "gender_map={\"Male\": 1,\"Female\": 0}\n",
    "marry_map={\"Yes\":1,\"No\":0}\n",
    "education_map={\"Graduate\": 1,\"Not Graduate\":0}\n",
    "property_map={\"Semiurban\":2,\"Urban\":1,\"Rural\":0}\n",
    "dataset=[train_df]\n",
    "for data in dataset:\n",
    "    data['Gender']=data['Gender'].map(gender_map)\n",
    "    data['Married']=data['Married'].map(marry_map)\n",
    "    data['Self_Employed']=data['Self_Employed'].map(marry_map)\n",
    "    data['Education']=data['Education'].map(education_map)\n",
    "    data['Property_Area']=data['Property_Area'].map(property_map)"
   ]
  },
  {
   "cell_type": "code",
   "execution_count": 28,
   "id": "ef18a61e",
   "metadata": {},
   "outputs": [],
   "source": [
    "#dependents contains numeric value except 3+, so we just need to replace 3+ with 3 and then  convert their type to numeric\n",
    "train_df = train_df.replace({'Dependents': '3+'}, {'Dependents': 3})\n",
    "train_df['Dependents'] = train_df['Dependents'].astype('int64')"
   ]
  },
  {
   "cell_type": "code",
   "execution_count": 29,
   "id": "de211b95",
   "metadata": {},
   "outputs": [
    {
     "data": {
      "text/plain": [
       "0    360\n",
       "1    102\n",
       "2    101\n",
       "3     51\n",
       "Name: Dependents, dtype: int64"
      ]
     },
     "execution_count": 29,
     "metadata": {},
     "output_type": "execute_result"
    }
   ],
   "source": [
    "train_df['Dependents'].value_counts()"
   ]
  },
  {
   "cell_type": "code",
   "execution_count": 30,
   "id": "403059e6",
   "metadata": {},
   "outputs": [
    {
     "name": "stdout",
     "output_type": "stream",
     "text": [
      "<class 'pandas.core.frame.DataFrame'>\n",
      "RangeIndex: 614 entries, 0 to 613\n",
      "Data columns (total 13 columns):\n",
      " #   Column             Non-Null Count  Dtype  \n",
      "---  ------             --------------  -----  \n",
      " 0   Loan_ID            614 non-null    object \n",
      " 1   Gender             614 non-null    int64  \n",
      " 2   Married            614 non-null    int64  \n",
      " 3   Dependents         614 non-null    int64  \n",
      " 4   Education          614 non-null    int64  \n",
      " 5   Self_Employed      614 non-null    int64  \n",
      " 6   ApplicantIncome    614 non-null    int64  \n",
      " 7   CoapplicantIncome  614 non-null    float64\n",
      " 8   LoanAmount         614 non-null    float64\n",
      " 9   Loan_Amount_Term   614 non-null    float64\n",
      " 10  Credit_History     614 non-null    float64\n",
      " 11  Property_Area      614 non-null    int64  \n",
      " 12  Loan_Status        614 non-null    int64  \n",
      "dtypes: float64(4), int64(8), object(1)\n",
      "memory usage: 62.5+ KB\n"
     ]
    }
   ],
   "source": [
    "train_df.info()"
   ]
  },
  {
   "cell_type": "code",
   "execution_count": 31,
   "id": "29dc0a94",
   "metadata": {},
   "outputs": [],
   "source": [
    "train_df = train_df.drop('Loan_ID', axis=1)"
   ]
  },
  {
   "cell_type": "code",
   "execution_count": 32,
   "id": "a2e8ac69",
   "metadata": {},
   "outputs": [
    {
     "data": {
      "text/html": [
       "<div>\n",
       "<style scoped>\n",
       "    .dataframe tbody tr th:only-of-type {\n",
       "        vertical-align: middle;\n",
       "    }\n",
       "\n",
       "    .dataframe tbody tr th {\n",
       "        vertical-align: top;\n",
       "    }\n",
       "\n",
       "    .dataframe thead th {\n",
       "        text-align: right;\n",
       "    }\n",
       "</style>\n",
       "<table border=\"1\" class=\"dataframe\">\n",
       "  <thead>\n",
       "    <tr style=\"text-align: right;\">\n",
       "      <th></th>\n",
       "      <th>Gender</th>\n",
       "      <th>Married</th>\n",
       "      <th>Dependents</th>\n",
       "      <th>Education</th>\n",
       "      <th>Self_Employed</th>\n",
       "      <th>ApplicantIncome</th>\n",
       "      <th>CoapplicantIncome</th>\n",
       "      <th>LoanAmount</th>\n",
       "      <th>Loan_Amount_Term</th>\n",
       "      <th>Credit_History</th>\n",
       "      <th>Property_Area</th>\n",
       "      <th>Loan_Status</th>\n",
       "    </tr>\n",
       "  </thead>\n",
       "  <tbody>\n",
       "    <tr>\n",
       "      <th>0</th>\n",
       "      <td>1</td>\n",
       "      <td>0</td>\n",
       "      <td>0</td>\n",
       "      <td>1</td>\n",
       "      <td>0</td>\n",
       "      <td>5849</td>\n",
       "      <td>0.0</td>\n",
       "      <td>128.0</td>\n",
       "      <td>360.0</td>\n",
       "      <td>1.0</td>\n",
       "      <td>1</td>\n",
       "      <td>1</td>\n",
       "    </tr>\n",
       "    <tr>\n",
       "      <th>1</th>\n",
       "      <td>1</td>\n",
       "      <td>1</td>\n",
       "      <td>1</td>\n",
       "      <td>1</td>\n",
       "      <td>0</td>\n",
       "      <td>4583</td>\n",
       "      <td>1508.0</td>\n",
       "      <td>128.0</td>\n",
       "      <td>360.0</td>\n",
       "      <td>1.0</td>\n",
       "      <td>0</td>\n",
       "      <td>0</td>\n",
       "    </tr>\n",
       "    <tr>\n",
       "      <th>2</th>\n",
       "      <td>1</td>\n",
       "      <td>1</td>\n",
       "      <td>0</td>\n",
       "      <td>1</td>\n",
       "      <td>1</td>\n",
       "      <td>3000</td>\n",
       "      <td>0.0</td>\n",
       "      <td>66.0</td>\n",
       "      <td>360.0</td>\n",
       "      <td>1.0</td>\n",
       "      <td>1</td>\n",
       "      <td>1</td>\n",
       "    </tr>\n",
       "    <tr>\n",
       "      <th>3</th>\n",
       "      <td>1</td>\n",
       "      <td>1</td>\n",
       "      <td>0</td>\n",
       "      <td>0</td>\n",
       "      <td>0</td>\n",
       "      <td>2583</td>\n",
       "      <td>2358.0</td>\n",
       "      <td>120.0</td>\n",
       "      <td>360.0</td>\n",
       "      <td>1.0</td>\n",
       "      <td>1</td>\n",
       "      <td>1</td>\n",
       "    </tr>\n",
       "    <tr>\n",
       "      <th>4</th>\n",
       "      <td>1</td>\n",
       "      <td>0</td>\n",
       "      <td>0</td>\n",
       "      <td>1</td>\n",
       "      <td>0</td>\n",
       "      <td>6000</td>\n",
       "      <td>0.0</td>\n",
       "      <td>141.0</td>\n",
       "      <td>360.0</td>\n",
       "      <td>1.0</td>\n",
       "      <td>1</td>\n",
       "      <td>1</td>\n",
       "    </tr>\n",
       "  </tbody>\n",
       "</table>\n",
       "</div>"
      ],
      "text/plain": [
       "   Gender  Married  Dependents  Education  Self_Employed  ApplicantIncome  \\\n",
       "0       1        0           0          1              0             5849   \n",
       "1       1        1           1          1              0             4583   \n",
       "2       1        1           0          1              1             3000   \n",
       "3       1        1           0          0              0             2583   \n",
       "4       1        0           0          1              0             6000   \n",
       "\n",
       "   CoapplicantIncome  LoanAmount  Loan_Amount_Term  Credit_History  \\\n",
       "0                0.0       128.0             360.0             1.0   \n",
       "1             1508.0       128.0             360.0             1.0   \n",
       "2                0.0        66.0             360.0             1.0   \n",
       "3             2358.0       120.0             360.0             1.0   \n",
       "4                0.0       141.0             360.0             1.0   \n",
       "\n",
       "   Property_Area  Loan_Status  \n",
       "0              1            1  \n",
       "1              0            0  \n",
       "2              1            1  \n",
       "3              1            1  \n",
       "4              1            1  "
      ]
     },
     "execution_count": 32,
     "metadata": {},
     "output_type": "execute_result"
    }
   ],
   "source": [
    "train_df.head()"
   ]
  },
  {
   "cell_type": "code",
   "execution_count": 33,
   "id": "6b32ea5c",
   "metadata": {},
   "outputs": [],
   "source": [
    "# split dependent & independent var\n",
    "X = train_df.iloc[:,:-1]\n",
    "y = train_df['Loan_Status']"
   ]
  },
  {
   "cell_type": "code",
   "execution_count": 34,
   "id": "68f42583",
   "metadata": {},
   "outputs": [
    {
     "data": {
      "text/html": [
       "<div>\n",
       "<style scoped>\n",
       "    .dataframe tbody tr th:only-of-type {\n",
       "        vertical-align: middle;\n",
       "    }\n",
       "\n",
       "    .dataframe tbody tr th {\n",
       "        vertical-align: top;\n",
       "    }\n",
       "\n",
       "    .dataframe thead th {\n",
       "        text-align: right;\n",
       "    }\n",
       "</style>\n",
       "<table border=\"1\" class=\"dataframe\">\n",
       "  <thead>\n",
       "    <tr style=\"text-align: right;\">\n",
       "      <th></th>\n",
       "      <th>Gender</th>\n",
       "      <th>Married</th>\n",
       "      <th>Dependents</th>\n",
       "      <th>Education</th>\n",
       "      <th>Self_Employed</th>\n",
       "      <th>ApplicantIncome</th>\n",
       "      <th>CoapplicantIncome</th>\n",
       "      <th>LoanAmount</th>\n",
       "      <th>Loan_Amount_Term</th>\n",
       "      <th>Credit_History</th>\n",
       "      <th>Property_Area</th>\n",
       "    </tr>\n",
       "  </thead>\n",
       "  <tbody>\n",
       "    <tr>\n",
       "      <th>0</th>\n",
       "      <td>1</td>\n",
       "      <td>0</td>\n",
       "      <td>0</td>\n",
       "      <td>1</td>\n",
       "      <td>0</td>\n",
       "      <td>5849</td>\n",
       "      <td>0.0</td>\n",
       "      <td>128.0</td>\n",
       "      <td>360.0</td>\n",
       "      <td>1.0</td>\n",
       "      <td>1</td>\n",
       "    </tr>\n",
       "    <tr>\n",
       "      <th>1</th>\n",
       "      <td>1</td>\n",
       "      <td>1</td>\n",
       "      <td>1</td>\n",
       "      <td>1</td>\n",
       "      <td>0</td>\n",
       "      <td>4583</td>\n",
       "      <td>1508.0</td>\n",
       "      <td>128.0</td>\n",
       "      <td>360.0</td>\n",
       "      <td>1.0</td>\n",
       "      <td>0</td>\n",
       "    </tr>\n",
       "    <tr>\n",
       "      <th>2</th>\n",
       "      <td>1</td>\n",
       "      <td>1</td>\n",
       "      <td>0</td>\n",
       "      <td>1</td>\n",
       "      <td>1</td>\n",
       "      <td>3000</td>\n",
       "      <td>0.0</td>\n",
       "      <td>66.0</td>\n",
       "      <td>360.0</td>\n",
       "      <td>1.0</td>\n",
       "      <td>1</td>\n",
       "    </tr>\n",
       "    <tr>\n",
       "      <th>3</th>\n",
       "      <td>1</td>\n",
       "      <td>1</td>\n",
       "      <td>0</td>\n",
       "      <td>0</td>\n",
       "      <td>0</td>\n",
       "      <td>2583</td>\n",
       "      <td>2358.0</td>\n",
       "      <td>120.0</td>\n",
       "      <td>360.0</td>\n",
       "      <td>1.0</td>\n",
       "      <td>1</td>\n",
       "    </tr>\n",
       "    <tr>\n",
       "      <th>4</th>\n",
       "      <td>1</td>\n",
       "      <td>0</td>\n",
       "      <td>0</td>\n",
       "      <td>1</td>\n",
       "      <td>0</td>\n",
       "      <td>6000</td>\n",
       "      <td>0.0</td>\n",
       "      <td>141.0</td>\n",
       "      <td>360.0</td>\n",
       "      <td>1.0</td>\n",
       "      <td>1</td>\n",
       "    </tr>\n",
       "  </tbody>\n",
       "</table>\n",
       "</div>"
      ],
      "text/plain": [
       "   Gender  Married  Dependents  Education  Self_Employed  ApplicantIncome  \\\n",
       "0       1        0           0          1              0             5849   \n",
       "1       1        1           1          1              0             4583   \n",
       "2       1        1           0          1              1             3000   \n",
       "3       1        1           0          0              0             2583   \n",
       "4       1        0           0          1              0             6000   \n",
       "\n",
       "   CoapplicantIncome  LoanAmount  Loan_Amount_Term  Credit_History  \\\n",
       "0                0.0       128.0             360.0             1.0   \n",
       "1             1508.0       128.0             360.0             1.0   \n",
       "2                0.0        66.0             360.0             1.0   \n",
       "3             2358.0       120.0             360.0             1.0   \n",
       "4                0.0       141.0             360.0             1.0   \n",
       "\n",
       "   Property_Area  \n",
       "0              1  \n",
       "1              0  \n",
       "2              1  \n",
       "3              1  \n",
       "4              1  "
      ]
     },
     "execution_count": 34,
     "metadata": {},
     "output_type": "execute_result"
    }
   ],
   "source": [
    "X.head()"
   ]
  },
  {
   "cell_type": "code",
   "execution_count": 35,
   "id": "34ffe3d6",
   "metadata": {},
   "outputs": [
    {
     "data": {
      "text/plain": [
       "0    1\n",
       "1    0\n",
       "2    1\n",
       "3    1\n",
       "4    1\n",
       "Name: Loan_Status, dtype: int64"
      ]
     },
     "execution_count": 35,
     "metadata": {},
     "output_type": "execute_result"
    }
   ],
   "source": [
    "y.head()"
   ]
  },
  {
   "cell_type": "code",
   "execution_count": 36,
   "id": "f16a5820",
   "metadata": {},
   "outputs": [],
   "source": [
    "# scaling\n",
    "from sklearn.preprocessing import StandardScaler\n",
    "scaler = StandardScaler()\n",
    "X_scaled = scaler.fit_transform(X)"
   ]
  },
  {
   "cell_type": "code",
   "execution_count": 37,
   "id": "da0151da",
   "metadata": {},
   "outputs": [
    {
     "data": {
      "text/html": [
       "<div>\n",
       "<style scoped>\n",
       "    .dataframe tbody tr th:only-of-type {\n",
       "        vertical-align: middle;\n",
       "    }\n",
       "\n",
       "    .dataframe tbody tr th {\n",
       "        vertical-align: top;\n",
       "    }\n",
       "\n",
       "    .dataframe thead th {\n",
       "        text-align: right;\n",
       "    }\n",
       "</style>\n",
       "<table border=\"1\" class=\"dataframe\">\n",
       "  <thead>\n",
       "    <tr style=\"text-align: right;\">\n",
       "      <th></th>\n",
       "      <th>0</th>\n",
       "      <th>1</th>\n",
       "      <th>2</th>\n",
       "      <th>3</th>\n",
       "      <th>4</th>\n",
       "      <th>5</th>\n",
       "      <th>6</th>\n",
       "      <th>7</th>\n",
       "      <th>8</th>\n",
       "      <th>9</th>\n",
       "      <th>10</th>\n",
       "    </tr>\n",
       "  </thead>\n",
       "  <tbody>\n",
       "    <tr>\n",
       "      <th>0</th>\n",
       "      <td>0.472343</td>\n",
       "      <td>-1.372089</td>\n",
       "      <td>-0.737806</td>\n",
       "      <td>0.528362</td>\n",
       "      <td>-0.392601</td>\n",
       "      <td>0.072991</td>\n",
       "      <td>-0.554487</td>\n",
       "      <td>-0.211241</td>\n",
       "      <td>0.273231</td>\n",
       "      <td>0.411733</td>\n",
       "      <td>-0.107989</td>\n",
       "    </tr>\n",
       "    <tr>\n",
       "      <th>1</th>\n",
       "      <td>0.472343</td>\n",
       "      <td>0.728816</td>\n",
       "      <td>0.253470</td>\n",
       "      <td>0.528362</td>\n",
       "      <td>-0.392601</td>\n",
       "      <td>-0.134412</td>\n",
       "      <td>-0.038732</td>\n",
       "      <td>-0.211241</td>\n",
       "      <td>0.273231</td>\n",
       "      <td>0.411733</td>\n",
       "      <td>-1.335861</td>\n",
       "    </tr>\n",
       "    <tr>\n",
       "      <th>2</th>\n",
       "      <td>0.472343</td>\n",
       "      <td>0.728816</td>\n",
       "      <td>-0.737806</td>\n",
       "      <td>0.528362</td>\n",
       "      <td>2.547117</td>\n",
       "      <td>-0.393747</td>\n",
       "      <td>-0.554487</td>\n",
       "      <td>-0.948996</td>\n",
       "      <td>0.273231</td>\n",
       "      <td>0.411733</td>\n",
       "      <td>-0.107989</td>\n",
       "    </tr>\n",
       "    <tr>\n",
       "      <th>3</th>\n",
       "      <td>0.472343</td>\n",
       "      <td>0.728816</td>\n",
       "      <td>-0.737806</td>\n",
       "      <td>-1.892641</td>\n",
       "      <td>-0.392601</td>\n",
       "      <td>-0.462062</td>\n",
       "      <td>0.251980</td>\n",
       "      <td>-0.306435</td>\n",
       "      <td>0.273231</td>\n",
       "      <td>0.411733</td>\n",
       "      <td>-0.107989</td>\n",
       "    </tr>\n",
       "    <tr>\n",
       "      <th>4</th>\n",
       "      <td>0.472343</td>\n",
       "      <td>-1.372089</td>\n",
       "      <td>-0.737806</td>\n",
       "      <td>0.528362</td>\n",
       "      <td>-0.392601</td>\n",
       "      <td>0.097728</td>\n",
       "      <td>-0.554487</td>\n",
       "      <td>-0.056551</td>\n",
       "      <td>0.273231</td>\n",
       "      <td>0.411733</td>\n",
       "      <td>-0.107989</td>\n",
       "    </tr>\n",
       "    <tr>\n",
       "      <th>...</th>\n",
       "      <td>...</td>\n",
       "      <td>...</td>\n",
       "      <td>...</td>\n",
       "      <td>...</td>\n",
       "      <td>...</td>\n",
       "      <td>...</td>\n",
       "      <td>...</td>\n",
       "      <td>...</td>\n",
       "      <td>...</td>\n",
       "      <td>...</td>\n",
       "      <td>...</td>\n",
       "    </tr>\n",
       "    <tr>\n",
       "      <th>609</th>\n",
       "      <td>-2.117107</td>\n",
       "      <td>-1.372089</td>\n",
       "      <td>-0.737806</td>\n",
       "      <td>0.528362</td>\n",
       "      <td>-0.392601</td>\n",
       "      <td>-0.410130</td>\n",
       "      <td>-0.554487</td>\n",
       "      <td>-0.889500</td>\n",
       "      <td>0.273231</td>\n",
       "      <td>0.411733</td>\n",
       "      <td>-1.335861</td>\n",
       "    </tr>\n",
       "    <tr>\n",
       "      <th>610</th>\n",
       "      <td>0.472343</td>\n",
       "      <td>0.728816</td>\n",
       "      <td>2.236021</td>\n",
       "      <td>0.528362</td>\n",
       "      <td>-0.392601</td>\n",
       "      <td>-0.212557</td>\n",
       "      <td>-0.554487</td>\n",
       "      <td>-1.258378</td>\n",
       "      <td>-2.522836</td>\n",
       "      <td>0.411733</td>\n",
       "      <td>-1.335861</td>\n",
       "    </tr>\n",
       "    <tr>\n",
       "      <th>611</th>\n",
       "      <td>0.472343</td>\n",
       "      <td>0.728816</td>\n",
       "      <td>0.253470</td>\n",
       "      <td>0.528362</td>\n",
       "      <td>-0.392601</td>\n",
       "      <td>0.437174</td>\n",
       "      <td>-0.472404</td>\n",
       "      <td>1.276168</td>\n",
       "      <td>0.273231</td>\n",
       "      <td>0.411733</td>\n",
       "      <td>-0.107989</td>\n",
       "    </tr>\n",
       "    <tr>\n",
       "      <th>612</th>\n",
       "      <td>0.472343</td>\n",
       "      <td>0.728816</td>\n",
       "      <td>1.244745</td>\n",
       "      <td>0.528362</td>\n",
       "      <td>-0.392601</td>\n",
       "      <td>0.357064</td>\n",
       "      <td>-0.554487</td>\n",
       "      <td>0.490816</td>\n",
       "      <td>0.273231</td>\n",
       "      <td>0.411733</td>\n",
       "      <td>-0.107989</td>\n",
       "    </tr>\n",
       "    <tr>\n",
       "      <th>613</th>\n",
       "      <td>-2.117107</td>\n",
       "      <td>-1.372089</td>\n",
       "      <td>-0.737806</td>\n",
       "      <td>0.528362</td>\n",
       "      <td>2.547117</td>\n",
       "      <td>-0.134412</td>\n",
       "      <td>-0.554487</td>\n",
       "      <td>-0.151745</td>\n",
       "      <td>0.273231</td>\n",
       "      <td>-2.428760</td>\n",
       "      <td>1.119884</td>\n",
       "    </tr>\n",
       "  </tbody>\n",
       "</table>\n",
       "<p>614 rows × 11 columns</p>\n",
       "</div>"
      ],
      "text/plain": [
       "           0         1         2         3         4         5         6   \\\n",
       "0    0.472343 -1.372089 -0.737806  0.528362 -0.392601  0.072991 -0.554487   \n",
       "1    0.472343  0.728816  0.253470  0.528362 -0.392601 -0.134412 -0.038732   \n",
       "2    0.472343  0.728816 -0.737806  0.528362  2.547117 -0.393747 -0.554487   \n",
       "3    0.472343  0.728816 -0.737806 -1.892641 -0.392601 -0.462062  0.251980   \n",
       "4    0.472343 -1.372089 -0.737806  0.528362 -0.392601  0.097728 -0.554487   \n",
       "..        ...       ...       ...       ...       ...       ...       ...   \n",
       "609 -2.117107 -1.372089 -0.737806  0.528362 -0.392601 -0.410130 -0.554487   \n",
       "610  0.472343  0.728816  2.236021  0.528362 -0.392601 -0.212557 -0.554487   \n",
       "611  0.472343  0.728816  0.253470  0.528362 -0.392601  0.437174 -0.472404   \n",
       "612  0.472343  0.728816  1.244745  0.528362 -0.392601  0.357064 -0.554487   \n",
       "613 -2.117107 -1.372089 -0.737806  0.528362  2.547117 -0.134412 -0.554487   \n",
       "\n",
       "           7         8         9         10  \n",
       "0   -0.211241  0.273231  0.411733 -0.107989  \n",
       "1   -0.211241  0.273231  0.411733 -1.335861  \n",
       "2   -0.948996  0.273231  0.411733 -0.107989  \n",
       "3   -0.306435  0.273231  0.411733 -0.107989  \n",
       "4   -0.056551  0.273231  0.411733 -0.107989  \n",
       "..        ...       ...       ...       ...  \n",
       "609 -0.889500  0.273231  0.411733 -1.335861  \n",
       "610 -1.258378 -2.522836  0.411733 -1.335861  \n",
       "611  1.276168  0.273231  0.411733 -0.107989  \n",
       "612  0.490816  0.273231  0.411733 -0.107989  \n",
       "613 -0.151745  0.273231 -2.428760  1.119884  \n",
       "\n",
       "[614 rows x 11 columns]"
      ]
     },
     "execution_count": 37,
     "metadata": {},
     "output_type": "execute_result"
    }
   ],
   "source": [
    "pd.DataFrame(X_scaled)"
   ]
  },
  {
   "cell_type": "code",
   "execution_count": 38,
   "id": "2075ab22",
   "metadata": {},
   "outputs": [],
   "source": [
    "gender_map={\"Male\": 1,\"Female\": 0}\n",
    "marry_map={\"Yes\":1,\"No\":0}\n",
    "education_map={\"Graduate\": 1,\"Not Graduate\":0}\n",
    "property_map={\"Semiurban\":2,\"Urban\":1,\"Rural\":0}\n",
    "dataset=[test_df]\n",
    "for data in dataset:\n",
    "    data['Gender']=data['Gender'].map(gender_map)\n",
    "    data['Married']=data['Married'].map(marry_map)\n",
    "    data['Self_Employed']=data['Self_Employed'].map(marry_map)\n",
    "    data['Education']=data['Education'].map(education_map)\n",
    "    data['Property_Area']=data['Property_Area'].map(property_map)"
   ]
  },
  {
   "cell_type": "code",
   "execution_count": 39,
   "id": "f7e9b73f",
   "metadata": {},
   "outputs": [],
   "source": [
    "#dependents contains numeric value except 3+, so we just need to replace 3+ with 3 and then  convert their type to numeric\n",
    "test_df = test_df.replace({'Dependents': '3+'}, {'Dependents': 3})\n",
    "test_df['Dependents'] = test_df['Dependents'].astype('int64')"
   ]
  },
  {
   "cell_type": "markdown",
   "id": "36793098",
   "metadata": {},
   "source": [
    "test_df = test_df.drop('Loan_ID', axis=1)"
   ]
  },
  {
   "cell_type": "markdown",
   "id": "88ca0219",
   "metadata": {},
   "source": [
    "test_scaled = scaler.fit_transform(test_df)"
   ]
  },
  {
   "cell_type": "markdown",
   "id": "b634a8c3",
   "metadata": {},
   "source": [
    "pd.DataFrame(test_scaled)"
   ]
  },
  {
   "cell_type": "code",
   "execution_count": 40,
   "id": "9fd85336",
   "metadata": {},
   "outputs": [],
   "source": [
    "# Building models\n",
    "from sklearn.model_selection import train_test_split, RandomizedSearchCV, GridSearchCV\n",
    "from sklearn import metrics\n",
    "from sklearn.metrics import confusion_matrix\n",
    "from sklearn.metrics import classification_report\n",
    "\n",
    "from sklearn.svm import SVC\n",
    "from sklearn.ensemble import RandomForestClassifier\n",
    "from sklearn.tree import DecisionTreeClassifier\n",
    "from sklearn.linear_model import LogisticRegression"
   ]
  },
  {
   "cell_type": "code",
   "execution_count": 41,
   "id": "f01c1596",
   "metadata": {},
   "outputs": [],
   "source": [
    "X_train, X_test, y_train, y_test = train_test_split(X_scaled, y, test_size=0.3, random_state=np.random.randint(0,100))"
   ]
  },
  {
   "cell_type": "code",
   "execution_count": 42,
   "id": "b8c49483",
   "metadata": {},
   "outputs": [
    {
     "name": "stdout",
     "output_type": "stream",
     "text": [
      "Best Params : {'kernel': 'linear', 'C': 1}\n",
      "SVM Performance with Balancing:\n",
      "---------------------------------\n",
      "Accuracy        :  0.745945945945946\n",
      "F1 Score        :  0.8395904436860069\n",
      "Precision       :  0.7365269461077845\n",
      "Recall          :  0.9761904761904762\n",
      "Confusion Matrix:\n",
      "  [[ 15  44]\n",
      " [  3 123]]\n",
      "              precision    recall  f1-score   support\n",
      "\n",
      "           0       0.83      0.25      0.39        59\n",
      "           1       0.74      0.98      0.84       126\n",
      "\n",
      "    accuracy                           0.75       185\n",
      "   macro avg       0.78      0.62      0.61       185\n",
      "weighted avg       0.77      0.75      0.70       185\n",
      "\n"
     ]
    }
   ],
   "source": [
    "svm_param_grid = {'kernel': ['linear', 'poly', 'rbf', 'sigmoid'],'C': range(1,11)}\n",
    "svm = SVC()\n",
    "svm_random = RandomizedSearchCV(estimator = svm, param_distributions = svm_param_grid, n_iter = 100, \n",
    "                                scoring = 'accuracy', cv=6)\n",
    "svm_random.fit(X_train, y_train)\n",
    "y_pred_svm = svm_random.predict(X_test)\n",
    "print(\"Best Params :\", svm_random.best_params_)\n",
    "\n",
    "print('SVM Performance with Balancing:')\n",
    "print('---------------------------------')\n",
    "print('Accuracy        : ', metrics.accuracy_score(y_test, y_pred_svm))\n",
    "print('F1 Score        : ', metrics.f1_score(y_test, y_pred_svm))\n",
    "print('Precision       : ', metrics.precision_score(y_test, y_pred_svm))\n",
    "print('Recall          : ', metrics.recall_score(y_test, y_pred_svm))\n",
    "print('Confusion Matrix:\\n ', confusion_matrix(y_test, y_pred_svm))\n",
    "print(classification_report(y_test, y_pred_svm))"
   ]
  },
  {
   "cell_type": "code",
   "execution_count": 43,
   "id": "ecd6c40f",
   "metadata": {},
   "outputs": [],
   "source": [
    "# checking train accuracy of svm\n",
    "y_pred_train_svm = svm_random.predict(X_train)"
   ]
  },
  {
   "cell_type": "code",
   "execution_count": 44,
   "id": "ae82bb9a",
   "metadata": {},
   "outputs": [
    {
     "data": {
      "text/plain": [
       "0.8368298368298368"
      ]
     },
     "execution_count": 44,
     "metadata": {},
     "output_type": "execute_result"
    }
   ],
   "source": [
    "metrics.accuracy_score(y_train,y_pred_train_svm)"
   ]
  },
  {
   "cell_type": "code",
   "execution_count": 45,
   "id": "869dbb24",
   "metadata": {},
   "outputs": [
    {
     "data": {
      "text/plain": [
       "1    0.687296\n",
       "0    0.312704\n",
       "Name: Loan_Status, dtype: float64"
      ]
     },
     "execution_count": 45,
     "metadata": {},
     "output_type": "execute_result"
    }
   ],
   "source": [
    "y.value_counts(normalize=True)\n",
    "# we can see the classes are imbalance "
   ]
  },
  {
   "cell_type": "code",
   "execution_count": 46,
   "id": "df192fbb",
   "metadata": {},
   "outputs": [
    {
     "name": "stdout",
     "output_type": "stream",
     "text": [
      "Best Params : {'n_estimators': 100}\n",
      "Random Forest Performance without Balancing:\n",
      "---------------------------------\n",
      "Accuracy        :  0.7243243243243244\n",
      "F1 Score        :  0.8235294117647058\n",
      "Precision       :  0.7300613496932515\n",
      "Recall          :  0.9444444444444444\n",
      "Confusion Matrix:\n",
      "  [[ 15  44]\n",
      " [  7 119]]\n",
      "              precision    recall  f1-score   support\n",
      "\n",
      "           0       0.68      0.25      0.37        59\n",
      "           1       0.73      0.94      0.82       126\n",
      "\n",
      "    accuracy                           0.72       185\n",
      "   macro avg       0.71      0.60      0.60       185\n",
      "weighted avg       0.71      0.72      0.68       185\n",
      "\n"
     ]
    }
   ],
   "source": [
    "rf_param_grid = {\n",
    "    'n_estimators': (1,1000,100)\n",
    "    }\n",
    "rf = RandomForestClassifier()\n",
    "rf_random =  RandomizedSearchCV(param_distributions=rf_param_grid, estimator=rf, n_iter=100, \n",
    "                                scoring='accuracy', cv=5)\n",
    "rf_random.fit(X_train,y_train)\n",
    "y_pred_rf = rf_random.predict(X_test)\n",
    "print(\"Best Params :\", rf_random.best_params_)\n",
    "\n",
    "print('Random Forest Performance without Balancing:')\n",
    "print('---------------------------------')\n",
    "print('Accuracy        : ', metrics.accuracy_score(y_test, y_pred_rf))\n",
    "print('F1 Score        : ', metrics.f1_score(y_test, y_pred_rf))\n",
    "print('Precision       : ', metrics.precision_score(y_test, y_pred_rf))\n",
    "print('Recall          : ', metrics.recall_score(y_test, y_pred_rf))\n",
    "print('Confusion Matrix:\\n ', confusion_matrix(y_test, y_pred_rf))\n",
    "print(classification_report(y_test, y_pred_rf))"
   ]
  },
  {
   "cell_type": "code",
   "execution_count": 47,
   "id": "34d3ee52",
   "metadata": {},
   "outputs": [
    {
     "name": "stdout",
     "output_type": "stream",
     "text": [
      "Best Params : {'criterion': 'gini', 'max_depth': 4, 'min_samples_leaf': 20, 'min_samples_split': 80}\n",
      "Decision Tree Performance without Balancing:\n",
      "---------------------------------\n",
      "Accuracy        :  0.745945945945946\n",
      "F1 Score        :  0.8395904436860069\n",
      "Precision       :  0.7365269461077845\n",
      "Recall          :  0.9761904761904762\n",
      "Confusion Matrix:\n",
      "  [[ 15  44]\n",
      " [  3 123]]\n",
      "              precision    recall  f1-score   support\n",
      "\n",
      "           0       0.83      0.25      0.39        59\n",
      "           1       0.74      0.98      0.84       126\n",
      "\n",
      "    accuracy                           0.75       185\n",
      "   macro avg       0.78      0.62      0.61       185\n",
      "weighted avg       0.77      0.75      0.70       185\n",
      "\n"
     ]
    }
   ],
   "source": [
    "dt_param_grid = {'max_depth': range(4,25),\n",
    "    'min_samples_leaf': range(10,100,10),\n",
    "    'min_samples_split': range(10,100,10),\n",
    "    'criterion': ['gini', 'entropy']\n",
    "}\n",
    "dt = DecisionTreeClassifier()\n",
    "dt_grid = GridSearchCV(dt, dt_param_grid, cv=5, return_train_score=True)\n",
    "dt_grid.fit(X_train,y_train)\n",
    "y_pred_dt = dt_grid.predict(X_test)\n",
    "print(\"Best Params :\", dt_grid.best_params_)\n",
    "\n",
    "print('Decision Tree Performance without Balancing:')\n",
    "print('---------------------------------')\n",
    "print('Accuracy        : ', metrics.accuracy_score(y_test, y_pred_dt))\n",
    "print('F1 Score        : ', metrics.f1_score(y_test, y_pred_dt))\n",
    "print('Precision       : ', metrics.precision_score(y_test, y_pred_dt))\n",
    "print('Recall          : ', metrics.recall_score(y_test, y_pred_dt))\n",
    "print('Confusion Matrix:\\n ', confusion_matrix(y_test, y_pred_dt))\n",
    "print(classification_report(y_test, y_pred_dt))"
   ]
  },
  {
   "cell_type": "code",
   "execution_count": 52,
   "id": "04b7e277",
   "metadata": {},
   "outputs": [],
   "source": [
    "# Balancing the model using SMOTE technique\n",
    "X_train1 = X_train.copy()\n",
    "y_train1 = y_train.copy()"
   ]
  },
  {
   "cell_type": "code",
   "execution_count": 53,
   "id": "8fc96154",
   "metadata": {},
   "outputs": [],
   "source": [
    "from imblearn.over_sampling import SMOTE\n",
    "smot = SMOTE(sampling_strategy='not majority')\n",
    "X_smot, y_smot = smot.fit_resample(X_train1,y_train1)"
   ]
  },
  {
   "cell_type": "code",
   "execution_count": 54,
   "id": "bde4b426",
   "metadata": {},
   "outputs": [
    {
     "name": "stdout",
     "output_type": "stream",
     "text": [
      "Before Oversampling count of label '0': 133\n",
      "Before Oversampling count of label '1': 296\n"
     ]
    }
   ],
   "source": [
    "print(\"Before Oversampling count of label '0':\", y_train1.value_counts()[0])\n",
    "print(\"Before Oversampling count of label '1':\", y_train1.value_counts()[1])"
   ]
  },
  {
   "cell_type": "code",
   "execution_count": 55,
   "id": "9e647473",
   "metadata": {},
   "outputs": [
    {
     "name": "stdout",
     "output_type": "stream",
     "text": [
      "After Oversampling count of label '0': 296\n",
      "After Oversampling count of label '1': 296\n"
     ]
    }
   ],
   "source": [
    "print(\"After Oversampling count of label '0':\", y_smot.value_counts()[0])\n",
    "print(\"After Oversampling count of label '1':\", y_smot.value_counts()[1])"
   ]
  },
  {
   "cell_type": "code",
   "execution_count": 56,
   "id": "63d4d84e",
   "metadata": {},
   "outputs": [
    {
     "name": "stdout",
     "output_type": "stream",
     "text": [
      "Before Oversampling shape of X : (429, 11)\n",
      "After Oversampling shape of X : (592, 11)\n"
     ]
    }
   ],
   "source": [
    "print(\"Before Oversampling shape of X :\", X_train1.shape)\n",
    "print(\"After Oversampling shape of X :\", X_smot.shape)"
   ]
  },
  {
   "cell_type": "code",
   "execution_count": 57,
   "id": "4ad15f2f",
   "metadata": {},
   "outputs": [],
   "source": [
    "X_train2, X_test2, y_train2, y_test2 = train_test_split(X_smot, y_smot, test_size=0.3, random_state=4)"
   ]
  },
  {
   "cell_type": "code",
   "execution_count": 58,
   "id": "95fb35ab",
   "metadata": {},
   "outputs": [
    {
     "data": {
      "text/plain": [
       "array([[ 0.47234264,  0.72881553, -0.73780632, ...,  0.2732313 ,\n",
       "         0.41173269, -1.33586108],\n",
       "       [ 0.47234264,  0.72881553,  0.25346957, ..., -2.52283563,\n",
       "         0.41173269, -0.10798877],\n",
       "       [ 0.47234264,  0.72881553,  0.25346957, ...,  0.2732313 ,\n",
       "        -2.42876026, -0.10798877],\n",
       "       ...,\n",
       "       [ 0.47234264, -1.37208932, -0.73780632, ...,  2.13727592,\n",
       "         0.41173269,  0.04786201],\n",
       "       [ 0.47234264,  0.72881553,  0.25346957, ...,  0.2732313 ,\n",
       "         0.41173269, -1.33586108],\n",
       "       [ 0.47234264,  0.72881553,  1.24474546, ...,  0.2732313 ,\n",
       "         0.41173269, -1.33586108]])"
      ]
     },
     "execution_count": 58,
     "metadata": {},
     "output_type": "execute_result"
    }
   ],
   "source": [
    "X_train2"
   ]
  },
  {
   "cell_type": "code",
   "execution_count": 59,
   "id": "db757e8b",
   "metadata": {},
   "outputs": [
    {
     "name": "stdout",
     "output_type": "stream",
     "text": [
      "SVM Performance with Balancing:\n",
      "---------------------------------\n",
      "Accuracy        :  0.7921348314606742\n",
      "F1 Score        :  0.8159203980099502\n",
      "Precision       :  0.7068965517241379\n",
      "Recall          :  0.9647058823529412\n",
      "Confusion Matrix:\n",
      "  [[59 34]\n",
      " [ 3 82]]\n",
      "              precision    recall  f1-score   support\n",
      "\n",
      "           0       0.95      0.63      0.76        93\n",
      "           1       0.71      0.96      0.82        85\n",
      "\n",
      "    accuracy                           0.79       178\n",
      "   macro avg       0.83      0.80      0.79       178\n",
      "weighted avg       0.83      0.79      0.79       178\n",
      "\n"
     ]
    }
   ],
   "source": [
    "# SVM after SMOTE\n",
    "svm1 = SVC(C=1.0, kernel='poly')\n",
    "svm1.fit(X_train2, y_train2)\n",
    "y_pred_svm1 = svm1.predict(X_test2)\n",
    "\n",
    "print('SVM Performance with Balancing:')\n",
    "print('---------------------------------')\n",
    "print('Accuracy        : ', metrics.accuracy_score(y_test2, y_pred_svm1))\n",
    "print('F1 Score        : ', metrics.f1_score(y_test2, y_pred_svm1))\n",
    "print('Precision       : ', metrics.precision_score(y_test2, y_pred_svm1))\n",
    "print('Recall          : ', metrics.recall_score(y_test2, y_pred_svm1))\n",
    "print('Confusion Matrix:\\n ', confusion_matrix(y_test2, y_pred_svm1))\n",
    "print(classification_report(y_test2, y_pred_svm1))"
   ]
  },
  {
   "cell_type": "code",
   "execution_count": null,
   "id": "3adf8d38",
   "metadata": {},
   "outputs": [],
   "source": []
  },
  {
   "cell_type": "code",
   "execution_count": 79,
   "id": "7240d0f3",
   "metadata": {},
   "outputs": [
    {
     "name": "stdout",
     "output_type": "stream",
     "text": [
      "Random Forest Performance with Balancing:\n",
      "---------------------------------\n",
      "Accuracy        :  0.8314606741573034\n",
      "F1 Score        :  0.8387096774193548\n",
      "Precision       :  0.7722772277227723\n",
      "Recall          :  0.9176470588235294\n",
      "Confusion Matrix:\n",
      "  [[70 23]\n",
      " [ 7 78]]\n",
      "              precision    recall  f1-score   support\n",
      "\n",
      "           0       0.91      0.75      0.82        93\n",
      "           1       0.77      0.92      0.84        85\n",
      "\n",
      "    accuracy                           0.83       178\n",
      "   macro avg       0.84      0.84      0.83       178\n",
      "weighted avg       0.84      0.83      0.83       178\n",
      "\n"
     ]
    }
   ],
   "source": [
    "rfm1 = RandomForestClassifier(max_depth=14, random_state=0, n_estimators=40, min_samples_split=1,\n",
    "    min_samples_leaf=1)\n",
    "rfm1.fit(X_train2, y_train2)\n",
    "y_pred_rfm1 = rfm1.predict(X_test2)\n",
    "\n",
    "print('Random Forest Performance with Balancing:')\n",
    "print('---------------------------------')\n",
    "print('Accuracy        : ', metrics.accuracy_score(y_test2, y_pred_rfm1))\n",
    "print('F1 Score        : ', metrics.f1_score(y_test2, y_pred_rfm1))\n",
    "print('Precision       : ', metrics.precision_score(y_test2, y_pred_rfm1))\n",
    "print('Recall          : ', metrics.recall_score(y_test2, y_pred_rfm1))\n",
    "print('Confusion Matrix:\\n ', confusion_matrix(y_test2, y_pred_rfm1))\n",
    "print(classification_report(y_test2, y_pred_rfm1))"
   ]
  },
  {
   "cell_type": "code",
   "execution_count": null,
   "id": "c8009c8e",
   "metadata": {},
   "outputs": [],
   "source": []
  },
  {
   "cell_type": "code",
   "execution_count": 61,
   "id": "93564fe0",
   "metadata": {},
   "outputs": [
    {
     "name": "stdout",
     "output_type": "stream",
     "text": [
      "SVM Performance with Balancing:\n",
      "---------------------------------\n",
      "Accuracy        :  0.8258426966292135\n",
      "F1 Score        :  0.822857142857143\n",
      "Precision       :  0.8\n",
      "Recall          :  0.8470588235294118\n",
      "Confusion Matrix:\n",
      "  [[75 18]\n",
      " [13 72]]\n",
      "              precision    recall  f1-score   support\n",
      "\n",
      "           0       0.85      0.81      0.83        93\n",
      "           1       0.80      0.85      0.82        85\n",
      "\n",
      "    accuracy                           0.83       178\n",
      "   macro avg       0.83      0.83      0.83       178\n",
      "weighted avg       0.83      0.83      0.83       178\n",
      "\n"
     ]
    }
   ],
   "source": [
    "dtm1 = DecisionTreeClassifier(max_depth=15, random_state=0, min_samples_split=1,\n",
    "    min_samples_leaf=1)\n",
    "dtm1.fit(X_train2, y_train2)\n",
    "y_pred_dtm1 = dtm1.predict(X_test2)\n",
    "\n",
    "print('SVM Performance with Balancing:')\n",
    "print('---------------------------------')\n",
    "print('Accuracy        : ', metrics.accuracy_score(y_test2, y_pred_dtm1))\n",
    "print('F1 Score        : ', metrics.f1_score(y_test2, y_pred_dtm1))\n",
    "print('Precision       : ', metrics.precision_score(y_test2, y_pred_dtm1))\n",
    "print('Recall          : ', metrics.recall_score(y_test2, y_pred_dtm1))\n",
    "print('Confusion Matrix:\\n ', confusion_matrix(y_test2, y_pred_dtm1))\n",
    "print(classification_report(y_test2, y_pred_dtm1))"
   ]
  },
  {
   "cell_type": "code",
   "execution_count": 62,
   "id": "26405a2c",
   "metadata": {},
   "outputs": [
    {
     "name": "stdout",
     "output_type": "stream",
     "text": [
      "Logistic Regression Performance with Balancing:\n",
      "---------------------------------\n",
      "Accuracy        :  0.7359550561797753\n",
      "F1 Score        :  0.7614213197969542\n",
      "Precision       :  0.6696428571428571\n",
      "Recall          :  0.8823529411764706\n",
      "Confusion Matrix:\n",
      "  [[56 37]\n",
      " [10 75]]\n",
      "              precision    recall  f1-score   support\n",
      "\n",
      "           0       0.85      0.60      0.70        93\n",
      "           1       0.67      0.88      0.76        85\n",
      "\n",
      "    accuracy                           0.74       178\n",
      "   macro avg       0.76      0.74      0.73       178\n",
      "weighted avg       0.76      0.74      0.73       178\n",
      "\n"
     ]
    }
   ],
   "source": [
    "lrm1 = LogisticRegression(C=10, max_iter=50, n_jobs=4)\n",
    "lrm1.fit(X_train2,y_train2)\n",
    "y_pred_lrm1 = lrm1.predict(X_test2)\n",
    "\n",
    "print('Logistic Regression Performance with Balancing:')\n",
    "print('---------------------------------')\n",
    "print('Accuracy        : ', metrics.accuracy_score(y_test2, y_pred_lrm1))\n",
    "print('F1 Score        : ', metrics.f1_score(y_test2, y_pred_lrm1))\n",
    "print('Precision       : ', metrics.precision_score(y_test2, y_pred_lrm1))\n",
    "print('Recall          : ', metrics.recall_score(y_test2, y_pred_lrm1))\n",
    "print('Confusion Matrix:\\n ', confusion_matrix(y_test2, y_pred_lrm1))\n",
    "print(classification_report(y_test2, y_pred_lrm1))"
   ]
  },
  {
   "cell_type": "code",
   "execution_count": null,
   "id": "bb7091e9",
   "metadata": {},
   "outputs": [],
   "source": []
  },
  {
   "cell_type": "code",
   "execution_count": 63,
   "id": "d283589b",
   "metadata": {},
   "outputs": [
    {
     "name": "stdout",
     "output_type": "stream",
     "text": [
      "Credit_History       0.313832\n",
      "ApplicantIncome      0.169571\n",
      "LoanAmount           0.148432\n",
      "Dependents           0.140847\n",
      "CoapplicantIncome    0.094035\n",
      "Loan_Amount_Term     0.033456\n",
      "Married              0.027547\n",
      "Property_Area        0.023747\n",
      "Self_Employed        0.021209\n",
      "Education            0.014324\n",
      "Gender               0.013002\n",
      "dtype: float64\n"
     ]
    },
    {
     "data": {
      "image/png": "[encoded data removed]",
      "text/plain": [
       "<Figure size 1200x400 with 1 Axes>"
      ]
     },
     "metadata": {},
     "output_type": "display_data"
    }
   ],
   "source": [
    "feat_imp = pd.Series(dtm1.feature_importances_, list(X)).sort_values(ascending=False)\n",
    "fig = plt.figure(figsize=(12, 4))\n",
    "feat_imp.plot(kind='bar', title='Importance of Features')\n",
    "plt.ylabel('Feature Importance Score')\n",
    "print(feat_imp)\n",
    "plt.grid()\n",
    "plt.show()"
   ]
  },
  {
   "cell_type": "code",
   "execution_count": 65,
   "id": "3c98388b",
   "metadata": {},
   "outputs": [
    {
     "name": "stdout",
     "output_type": "stream",
     "text": [
      "Credit_History       0.295169\n",
      "ApplicantIncome      0.155060\n",
      "LoanAmount           0.152998\n",
      "CoapplicantIncome    0.099826\n",
      "Dependents           0.088623\n",
      "Property_Area        0.069234\n",
      "Married              0.041461\n",
      "Loan_Amount_Term     0.032700\n",
      "Education            0.027831\n",
      "Self_Employed        0.021572\n",
      "Gender               0.015525\n",
      "dtype: float64\n"
     ]
    },
    {
     "data": {
      "image/png": "[encoded data removed]",
      "text/plain": [
       "<Figure size 1200x400 with 1 Axes>"
      ]
     },
     "metadata": {},
     "output_type": "display_data"
    }
   ],
   "source": [
    "feat_imp = pd.Series(rfm1.feature_importances_, list(X)).sort_values(ascending=False)\n",
    "fig = plt.figure(figsize=(12, 4))\n",
    "feat_imp.plot(kind='bar', title='Importance of Features')\n",
    "plt.ylabel('Feature Importance Score')\n",
    "print(feat_imp)\n",
    "plt.grid()\n",
    "plt.show()"
   ]
  },
  {
   "cell_type": "code",
   "execution_count": 66,
   "id": "c979bee3",
   "metadata": {},
   "outputs": [],
   "source": [
    "loanID=test_df['Loan_ID']\n",
    "test_df=test_df.drop('Loan_ID',1)"
   ]
  },
  {
   "cell_type": "code",
   "execution_count": 73,
   "id": "43c317b2",
   "metadata": {},
   "outputs": [
    {
     "data": {
      "text/plain": [
       "numpy.ndarray"
      ]
     },
     "execution_count": 73,
     "metadata": {},
     "output_type": "execute_result"
    }
   ],
   "source": [
    "# Let's predict the results for test file and store in csv file\n",
    "y_pred_d=rfm1.predict(test_df)\n",
    "y_final=[]\n",
    "for y in y_pred_d:\n",
    "    if y==1:\n",
    "        y_final.append(\"Y\")\n",
    "    elif y==0:\n",
    "        y_final.append(\"N\")\n",
    "y_best=np.array(y_final)\n",
    "type(y_best)"
   ]
  },
  {
   "cell_type": "code",
   "execution_count": 74,
   "id": "28bab98f",
   "metadata": {},
   "outputs": [
    {
     "data": {
      "text/html": [
       "<div>\n",
       "<style scoped>\n",
       "    .dataframe tbody tr th:only-of-type {\n",
       "        vertical-align: middle;\n",
       "    }\n",
       "\n",
       "    .dataframe tbody tr th {\n",
       "        vertical-align: top;\n",
       "    }\n",
       "\n",
       "    .dataframe thead th {\n",
       "        text-align: right;\n",
       "    }\n",
       "</style>\n",
       "<table border=\"1\" class=\"dataframe\">\n",
       "  <thead>\n",
       "    <tr style=\"text-align: right;\">\n",
       "      <th></th>\n",
       "      <th>Loan_ID</th>\n",
       "      <th>Loan_Status</th>\n",
       "    </tr>\n",
       "  </thead>\n",
       "  <tbody>\n",
       "    <tr>\n",
       "      <th>0</th>\n",
       "      <td>LP001015</td>\n",
       "      <td>N</td>\n",
       "    </tr>\n",
       "    <tr>\n",
       "      <th>1</th>\n",
       "      <td>LP001022</td>\n",
       "      <td>N</td>\n",
       "    </tr>\n",
       "    <tr>\n",
       "      <th>2</th>\n",
       "      <td>LP001031</td>\n",
       "      <td>N</td>\n",
       "    </tr>\n",
       "    <tr>\n",
       "      <th>3</th>\n",
       "      <td>LP001035</td>\n",
       "      <td>N</td>\n",
       "    </tr>\n",
       "    <tr>\n",
       "      <th>4</th>\n",
       "      <td>LP001051</td>\n",
       "      <td>N</td>\n",
       "    </tr>\n",
       "    <tr>\n",
       "      <th>5</th>\n",
       "      <td>LP001054</td>\n",
       "      <td>N</td>\n",
       "    </tr>\n",
       "    <tr>\n",
       "      <th>6</th>\n",
       "      <td>LP001055</td>\n",
       "      <td>N</td>\n",
       "    </tr>\n",
       "    <tr>\n",
       "      <th>7</th>\n",
       "      <td>LP001056</td>\n",
       "      <td>Y</td>\n",
       "    </tr>\n",
       "    <tr>\n",
       "      <th>8</th>\n",
       "      <td>LP001059</td>\n",
       "      <td>Y</td>\n",
       "    </tr>\n",
       "    <tr>\n",
       "      <th>9</th>\n",
       "      <td>LP001067</td>\n",
       "      <td>N</td>\n",
       "    </tr>\n",
       "    <tr>\n",
       "      <th>10</th>\n",
       "      <td>LP001078</td>\n",
       "      <td>N</td>\n",
       "    </tr>\n",
       "    <tr>\n",
       "      <th>11</th>\n",
       "      <td>LP001082</td>\n",
       "      <td>N</td>\n",
       "    </tr>\n",
       "    <tr>\n",
       "      <th>12</th>\n",
       "      <td>LP001083</td>\n",
       "      <td>N</td>\n",
       "    </tr>\n",
       "    <tr>\n",
       "      <th>13</th>\n",
       "      <td>LP001094</td>\n",
       "      <td>Y</td>\n",
       "    </tr>\n",
       "    <tr>\n",
       "      <th>14</th>\n",
       "      <td>LP001096</td>\n",
       "      <td>N</td>\n",
       "    </tr>\n",
       "  </tbody>\n",
       "</table>\n",
       "</div>"
      ],
      "text/plain": [
       "     Loan_ID Loan_Status\n",
       "0   LP001015           N\n",
       "1   LP001022           N\n",
       "2   LP001031           N\n",
       "3   LP001035           N\n",
       "4   LP001051           N\n",
       "5   LP001054           N\n",
       "6   LP001055           N\n",
       "7   LP001056           Y\n",
       "8   LP001059           Y\n",
       "9   LP001067           N\n",
       "10  LP001078           N\n",
       "11  LP001082           N\n",
       "12  LP001083           N\n",
       "13  LP001094           Y\n",
       "14  LP001096           N"
      ]
     },
     "execution_count": 74,
     "metadata": {},
     "output_type": "execute_result"
    }
   ],
   "source": [
    "submission = pd.DataFrame({\n",
    "        \"Loan_ID\": loanID,\n",
    "        \"Loan_Status\": y_best\n",
    "    })\n",
    "submission.head(15)"
   ]
  },
  {
   "cell_type": "code",
   "execution_count": 75,
   "id": "e0ff37b8",
   "metadata": {},
   "outputs": [
    {
     "data": {
      "text/plain": [
       "array([0, 0, 0, 0, 0, 0, 0, 1, 1, 0, 0, 0, 0, 1, 0, 0, 0, 0, 0, 0, 0, 0,\n",
       "       0, 0, 0, 0, 0, 0, 0, 0, 0, 0, 0, 0, 0, 0, 0, 0, 0, 0, 0, 0, 0, 0,\n",
       "       0, 0, 0, 0, 0, 0, 0, 0, 0, 0, 0, 0, 0, 0, 0, 1, 0, 0, 1, 0, 1, 0,\n",
       "       0, 0, 0, 0, 0, 0, 0, 0, 0, 0, 0, 0, 0, 0, 0, 1, 1, 0, 0, 0, 0, 0,\n",
       "       0, 0, 0, 1, 0, 0, 0, 1, 0, 0, 1, 1, 0, 0, 1, 1, 0, 0, 0, 1, 0, 0,\n",
       "       0, 0, 0, 0, 0, 0, 0, 0, 0, 0, 0, 0, 0, 0, 0, 0, 0, 1, 0, 0, 0, 0,\n",
       "       0, 0, 0, 0, 1, 0, 0, 1, 0, 0, 0, 0, 1, 0, 0, 0, 0, 0, 0, 0, 0, 0,\n",
       "       1, 0, 0, 0, 0, 0, 0, 0, 0, 0, 0, 0, 0, 0, 0, 1, 0, 1, 0, 0, 0, 0,\n",
       "       0, 0, 1, 1, 0, 0, 1, 0, 0, 0, 0, 1, 0, 0, 1, 0, 0, 0, 0, 0, 1, 0,\n",
       "       0, 0, 0, 0, 0, 0, 0, 0, 0, 0, 0, 0, 0, 0, 1, 0, 0, 0, 0, 0, 0, 0,\n",
       "       0, 0, 1, 0, 1, 0, 0, 0, 0, 1, 0, 0, 0, 0, 0, 0, 0, 0, 0, 0, 0, 0,\n",
       "       0, 0, 0, 0, 0, 0, 0, 0, 0, 0, 0, 0, 0, 0, 0, 0, 0, 0, 0, 0, 0, 1,\n",
       "       0, 0, 0, 0, 0, 0, 0, 0, 0, 0, 0, 0, 0, 0, 0, 0, 0, 0, 0, 0, 0, 1,\n",
       "       0, 0, 0, 0, 0, 0, 0, 0, 0, 0, 0, 0, 1, 1, 1, 1, 0, 0, 0, 0, 1, 1,\n",
       "       1, 0, 0, 0, 0, 1, 0, 0, 0, 0, 0, 0, 0, 0, 1, 0, 0, 0, 0, 0, 0, 0,\n",
       "       0, 1, 0, 0, 0, 0, 0, 0, 0, 0, 0, 0, 1, 1, 0, 1, 0, 0, 0, 0, 1, 0,\n",
       "       0, 0, 0, 0, 0, 0, 1, 0, 0, 0, 0, 0, 0, 0, 0], dtype=int64)"
      ]
     },
     "execution_count": 75,
     "metadata": {},
     "output_type": "execute_result"
    }
   ],
   "source": [
    "y_pred_d"
   ]
  },
  {
   "cell_type": "markdown",
   "id": "94b74186",
   "metadata": {},
   "source": [
    "We have got the best accuracy from Random Forest as well as F-1 score.\n",
    "- Best 3 features it has considered for prediction is Credit History, Income and Loan Amount of the applicant.\n",
    "- i.e applicant with good credit history, income and more loan amount have been sanctioned with the loan"
   ]
  },
  {
   "cell_type": "markdown",
   "id": "29e15463",
   "metadata": {},
   "source": [
    "A credit score is a number from 300 to 850 that depicts a consumer's creditworthiness. Factors considered in credit scoring include repayment history, types of loans, length of credit history, and an individual's total debt."
   ]
  },
  {
   "cell_type": "markdown",
   "id": "6031320c",
   "metadata": {},
   "source": [
    "A credit score is a prediction of your credit behavior, such as how likely you are to pay a loan back on time, based on information from your credit reports."
   ]
  },
  {
   "cell_type": "markdown",
   "id": "6359b3ac",
   "metadata": {},
   "source": [
    "A low credit score becomes an obstacle for borrowers to avail desired loan amounts at a low-interest rate. However, users can purchase their CIBIL report. From your CIBIL report, you can check your CIBIL score whenever you want. For that, you have to follow some steps.\n",
    "A CIBIL report contains your credit history as given by the financial institutions and banks. Also, you can get access to your CIBIL score and other financial behavior. To avail of your CIBIL report, a user needs to take a subscription. Credit rating agencies facilitate different subscription packages for users. Make a subscription request to the respective agency, and they will send you a mail."
   ]
  },
  {
   "cell_type": "markdown",
   "id": "789d5af9",
   "metadata": {},
   "source": [
    "Generally, a CIBIL Score in the range of 700-749 is considered a good CIBIL Score according to TransUnion CIBIL. With this score, you can qualify for credit offers from different banks and NBFCs. You can check your CIBIL Score anytime you want with the Credit Pass. Checking your score regularly has no impact on your score."
   ]
  },
  {
   "cell_type": "code",
   "execution_count": null,
   "id": "15970371",
   "metadata": {},
   "outputs": [],
   "source": []
  },
  {
   "cell_type": "code",
   "execution_count": null,
   "id": "051d0774",
   "metadata": {},
   "outputs": [],
   "source": []
  },
  {
   "cell_type": "markdown",
   "id": "0bf12923",
   "metadata": {},
   "source": [
    "Highlights:\n",
    "\n",
    "- Credit scores are three-digit numbers designed to represent the likelihood you will pay your bills on time.\n",
    "- There's no “magic number” that guarantees you loan approval or better interest rates and terms.\n",
    "- Credit ranges vary based on the scoring model used to evaluate them."
   ]
  },
  {
   "cell_type": "markdown",
   "id": "d8dec7b3",
   "metadata": {},
   "source": [
    "Potential lenders and creditors look at your credit score as one factor when deciding whether to offer you new credit. Lenders may also use your credit score to set the interest rates and other terms for any credit they offer.\n",
    "\n",
    "Credit scores typically range from 300 to 850. Within that range, scores can usually be placed into one of five categories: poor, fair, good, very good and excellent."
   ]
  },
  {
   "cell_type": "markdown",
   "id": "8c852616",
   "metadata": {},
   "source": [
    "Credit score ranges – what are they?\n",
    "\n",
    "There's more than one credit scoring model available and more than one range of scores. However, most credit score ranges are similar to the following:\n",
    "\n",
    "- 800 to 850: (Excellent)\n",
    "Individuals in this range are considered to be low-risk borrowers. They may have an easier time securing a loan than borrowers with lower scores.\n",
    "- 740 to 799: (Very good)\n",
    "Individuals in this range have demonstrated a history of positive credit behavior and may have an easier time being approved for additional credit.\n",
    "- 670 to 739: (Good)\n",
    "Lenders generally view those with credit scores of 670 and up as acceptable or lower-risk borrowers.\n",
    "- 580 to 669: (Fair)\n",
    "Individuals in this category are often considered “subprime” borrowers. Lenders may consider them higher-risk, and they may have trouble qualifying for new credit.\n",
    "- 300 to 579: (Poor)\n",
    "Individuals in this range often have difficulty being approved for new credit. If you find yourself in the poor category, it's likely you'll need to take steps to improve your credit scores before you can secure any new credit."
   ]
  },
  {
   "cell_type": "markdown",
   "id": "c3822d9e",
   "metadata": {},
   "source": [
    "How can I improve my credit scores?\n",
    "\n",
    "The good news is your credit score is not a fixed number. With time and responsible choices, it can be improved. Just keep in mind that this process takes patience. This is especially true if you haven't kept the best credit habits in the past.\n",
    "\n",
    "Some credit habits that could improve your score in the long term include making your payments on time, keeping old accounts open to lengthen your credit history and keeping your credit utilization rate low."
   ]
  },
  {
   "cell_type": "code",
   "execution_count": null,
   "id": "fa43b48a",
   "metadata": {},
   "outputs": [],
   "source": []
  },
  {
   "cell_type": "markdown",
   "id": "1fbb2021",
   "metadata": {},
   "source": [
    "**Grid and RandomizedSearchCV**\n",
    "- Model Hyperparameter tuning is very useful to enhance the performance of a machine learning model. We have discussed both the approaches to do the tuning that is GridSearchCV and RandomizedSeachCV. **The only difference between both the approaches is in grid search we define the combinations and do training of the model whereas in RandomizedSearchCV the model selects the combinations randomly. Both are very effective ways of tuning the parameters that increase the model generalizability.** "
   ]
  },
  {
   "cell_type": "code",
   "execution_count": null,
   "id": "c110c33e",
   "metadata": {},
   "outputs": [],
   "source": []
  },
  {
   "cell_type": "markdown",
   "id": "a224b939",
   "metadata": {},
   "source": [
    "**Is it easier to get approved for a smaller loan?**\n",
    "- Small loans are easier to get approved for than large ones, because lenders aren't putting as much money at risk, and these loans can be paid back even if your income isn't very high. So figure out exactly how much money you need to accomplish your goals and apply for the minimum loan amount required."
   ]
  },
  {
   "cell_type": "code",
   "execution_count": 80,
   "id": "cfe0dc39",
   "metadata": {},
   "outputs": [],
   "source": [
    "from sklearn.ensemble import BaggingClassifier"
   ]
  },
  {
   "cell_type": "code",
   "execution_count": null,
   "id": "02655a12",
   "metadata": {},
   "outputs": [],
   "source": [
    "model = BaggingClassifier()"
   ]
  }
 ],
 "metadata": {
  "kernelspec": {
   "display_name": "Python 3 (ipykernel)",
   "language": "python",
   "name": "python3"
  },
  "language_info": {
   "codemirror_mode": {
    "name": "ipython",
    "version": 3
   },
   "file_extension": ".py",
   "mimetype": "text/x-python",
   "name": "python",
   "nbconvert_exporter": "python",
   "pygments_lexer": "ipython3",
   "version": "3.9.12"
  }
 },
 "nbformat": 4,
 "nbformat_minor": 5
}
